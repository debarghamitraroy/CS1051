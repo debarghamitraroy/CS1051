{
 "cells": [
  {
   "cell_type": "markdown",
   "id": "4687f09a",
   "metadata": {},
   "source": [
    "# Multi-Layer Perceptron (MLP)\n"
   ]
  },
  {
   "cell_type": "markdown",
   "id": "1f42c527",
   "metadata": {},
   "source": [
    "## Problem Statement\n"
   ]
  },
  {
   "cell_type": "markdown",
   "id": "7c59e5bc",
   "metadata": {},
   "source": [
    "Implement **Multi-Layer Perceptron (MLP)** for the **XOR function**.\n",
    "\n",
    "|  x  |  y  | output |\n",
    "| :-: | :-: | :----: |\n",
    "|  0  |  0  |   0    |\n",
    "|  0  |  1  |   1    |\n",
    "|  1  |  0  |   1    |\n",
    "|  1  |  1  |   0    |\n"
   ]
  },
  {
   "cell_type": "markdown",
   "id": "982a4e13",
   "metadata": {},
   "source": [
    "### Import Libraries\n"
   ]
  },
  {
   "cell_type": "code",
   "execution_count": 1,
   "id": "c5eb3121",
   "metadata": {},
   "outputs": [],
   "source": [
    "import numpy as np\n",
    "import pandas as pd\n",
    "from sklearn.preprocessing import StandardScaler\n",
    "from sklearn.neural_network import MLPClassifier\n",
    "from sklearn.model_selection import train_test_split"
   ]
  },
  {
   "cell_type": "markdown",
   "id": "21db5d7f",
   "metadata": {},
   "source": [
    "### XOR dataset\n"
   ]
  },
  {
   "cell_type": "code",
   "execution_count": 2,
   "id": "0cf288c4",
   "metadata": {},
   "outputs": [
    {
     "name": "stdout",
     "output_type": "stream",
     "text": [
      "[0 0 1 1]\n",
      "[0 1 0 1]\n"
     ]
    }
   ],
   "source": [
    "x1 = np.array([0, 0, 1, 1])\n",
    "x2 = np.array([0, 1, 0, 1])\n",
    "print(x1)\n",
    "print(x2)"
   ]
  },
  {
   "cell_type": "code",
   "execution_count": 3,
   "id": "86ecf5d2",
   "metadata": {},
   "outputs": [],
   "source": [
    "def generate_array(size=50):\n",
    "    choices = np.random.choice([0, 1], size=size)\n",
    "    arr = np.where(\n",
    "        choices == 0,\n",
    "        np.random.uniform(0, 0.2, size),  # values from 0 to 0.2\n",
    "        np.random.uniform(0.8, 1.0, size),  # values from 0.8 to 1\n",
    "    )\n",
    "    return arr"
   ]
  },
  {
   "cell_type": "code",
   "execution_count": 4,
   "id": "63e72443",
   "metadata": {},
   "outputs": [
    {
     "name": "stdout",
     "output_type": "stream",
     "text": [
      "[0.11 0.96 0.9  0.11 1.   0.82 0.94 0.05 0.88 0.91 0.02 0.9  0.83 0.07\n",
      " 0.88 0.09 0.07 0.02 0.15 0.8  0.09 0.08 0.02 0.96 0.18 0.1  0.93 0.85\n",
      " 0.85 0.17 0.96 0.91 0.04 0.84 0.02 0.02 0.91 0.16 0.86 0.14 0.89 0.18\n",
      " 0.14 0.81 0.1  0.9  0.11 0.84 0.92 0.1 ]\n"
     ]
    }
   ],
   "source": [
    "arr1 = generate_array()\n",
    "arr1 = np.round(arr1, 2)\n",
    "print(arr1)"
   ]
  },
  {
   "cell_type": "code",
   "execution_count": 5,
   "id": "f248d5f7",
   "metadata": {},
   "outputs": [
    {
     "name": "stdout",
     "output_type": "stream",
     "text": [
      "[0.96 0.87 0.98 0.1  0.16 0.18 0.84 0.81 0.88 0.18 0.14 0.88 0.87 0.08\n",
      " 0.82 0.17 0.91 0.04 0.89 0.89 0.9  0.01 0.88 0.09 0.19 0.15 0.9  0.17\n",
      " 0.07 0.11 0.05 0.91 0.93 0.16 0.85 0.84 0.95 0.86 0.11 0.88 0.01 0.18\n",
      " 0.15 0.84 0.94 0.98 0.91 0.13 0.05 0.88]\n"
     ]
    }
   ],
   "source": [
    "arr2 = generate_array()\n",
    "arr2 = np.round(arr2, 2)\n",
    "print(arr2)"
   ]
  },
  {
   "cell_type": "code",
   "execution_count": 6,
   "id": "17e6f47f",
   "metadata": {},
   "outputs": [
    {
     "name": "stdout",
     "output_type": "stream",
     "text": [
      "[0.   0.   1.   1.   0.11 0.96 0.9  0.11 1.   0.82 0.94 0.05 0.88 0.91\n",
      " 0.02 0.9  0.83 0.07 0.88 0.09 0.07 0.02 0.15 0.8  0.09 0.08 0.02 0.96\n",
      " 0.18 0.1  0.93 0.85 0.85 0.17 0.96 0.91 0.04 0.84 0.02 0.02 0.91 0.16\n",
      " 0.86 0.14 0.89 0.18 0.14 0.81 0.1  0.9  0.11 0.84 0.92 0.1 ]\n"
     ]
    }
   ],
   "source": [
    "x1 = np.concatenate((x1, arr1))\n",
    "print(x1)"
   ]
  },
  {
   "cell_type": "code",
   "execution_count": 7,
   "id": "8a61fa07",
   "metadata": {},
   "outputs": [
    {
     "name": "stdout",
     "output_type": "stream",
     "text": [
      "[0.   1.   0.   1.   0.96 0.87 0.98 0.1  0.16 0.18 0.84 0.81 0.88 0.18\n",
      " 0.14 0.88 0.87 0.08 0.82 0.17 0.91 0.04 0.89 0.89 0.9  0.01 0.88 0.09\n",
      " 0.19 0.15 0.9  0.17 0.07 0.11 0.05 0.91 0.93 0.16 0.85 0.84 0.95 0.86\n",
      " 0.11 0.88 0.01 0.18 0.15 0.84 0.94 0.98 0.91 0.13 0.05 0.88]\n"
     ]
    }
   ],
   "source": [
    "x2 = np.concatenate((x2, arr2))\n",
    "print(x2)"
   ]
  },
  {
   "cell_type": "code",
   "execution_count": 8,
   "id": "69c7bee9",
   "metadata": {},
   "outputs": [
    {
     "name": "stdout",
     "output_type": "stream",
     "text": [
      "[0 1 1 0 1 1 1 0 1 1 1 1 1 1 0 1 1 0 1 0 1 0 1 1 1 0 1 1 0 0 1 1 1 0 1 1 1\n",
      " 1 1 1 1 1 1 1 1 0 0 1 1 1 1 1 1 1]\n"
     ]
    }
   ],
   "source": [
    "output = np.empty(54, dtype=int)\n",
    "for i in range(54):\n",
    "    a, b = x1[i], x2[i]\n",
    "    if a >= 0.8:\n",
    "        a = 1\n",
    "    elif b >= 0.8:\n",
    "        b = 1\n",
    "    elif b <= 0.2:\n",
    "        b = 0\n",
    "    elif a <= 0.2:\n",
    "        a = 0\n",
    "    y = (int)(a) ^ (int)(b)\n",
    "    output[i] = y\n",
    "print(output)"
   ]
  },
  {
   "cell_type": "code",
   "execution_count": 9,
   "id": "cfd1ad06",
   "metadata": {},
   "outputs": [
    {
     "name": "stdout",
     "output_type": "stream",
     "text": [
      "(54,)\n",
      "(54,)\n",
      "(54,)\n"
     ]
    }
   ],
   "source": [
    "print(x1.shape)\n",
    "print(x2.shape)\n",
    "print(output.shape)"
   ]
  },
  {
   "cell_type": "markdown",
   "id": "7a0ee3ac",
   "metadata": {},
   "source": [
    "### Create Dataframe\n"
   ]
  },
  {
   "cell_type": "code",
   "execution_count": 10,
   "id": "46e7242c",
   "metadata": {},
   "outputs": [
    {
     "data": {
      "text/html": [
       "<div>\n",
       "<style scoped>\n",
       "    .dataframe tbody tr th:only-of-type {\n",
       "        vertical-align: middle;\n",
       "    }\n",
       "\n",
       "    .dataframe tbody tr th {\n",
       "        vertical-align: top;\n",
       "    }\n",
       "\n",
       "    .dataframe thead th {\n",
       "        text-align: right;\n",
       "    }\n",
       "</style>\n",
       "<table border=\"1\" class=\"dataframe\">\n",
       "  <thead>\n",
       "    <tr style=\"text-align: right;\">\n",
       "      <th></th>\n",
       "      <th>x</th>\n",
       "      <th>y</th>\n",
       "      <th>output</th>\n",
       "    </tr>\n",
       "  </thead>\n",
       "  <tbody>\n",
       "    <tr>\n",
       "      <th>0</th>\n",
       "      <td>0.00</td>\n",
       "      <td>0.00</td>\n",
       "      <td>0</td>\n",
       "    </tr>\n",
       "    <tr>\n",
       "      <th>1</th>\n",
       "      <td>0.00</td>\n",
       "      <td>1.00</td>\n",
       "      <td>1</td>\n",
       "    </tr>\n",
       "    <tr>\n",
       "      <th>2</th>\n",
       "      <td>1.00</td>\n",
       "      <td>0.00</td>\n",
       "      <td>1</td>\n",
       "    </tr>\n",
       "    <tr>\n",
       "      <th>3</th>\n",
       "      <td>1.00</td>\n",
       "      <td>1.00</td>\n",
       "      <td>0</td>\n",
       "    </tr>\n",
       "    <tr>\n",
       "      <th>4</th>\n",
       "      <td>0.11</td>\n",
       "      <td>0.96</td>\n",
       "      <td>1</td>\n",
       "    </tr>\n",
       "    <tr>\n",
       "      <th>5</th>\n",
       "      <td>0.96</td>\n",
       "      <td>0.87</td>\n",
       "      <td>1</td>\n",
       "    </tr>\n",
       "    <tr>\n",
       "      <th>6</th>\n",
       "      <td>0.90</td>\n",
       "      <td>0.98</td>\n",
       "      <td>1</td>\n",
       "    </tr>\n",
       "    <tr>\n",
       "      <th>7</th>\n",
       "      <td>0.11</td>\n",
       "      <td>0.10</td>\n",
       "      <td>0</td>\n",
       "    </tr>\n",
       "    <tr>\n",
       "      <th>8</th>\n",
       "      <td>1.00</td>\n",
       "      <td>0.16</td>\n",
       "      <td>1</td>\n",
       "    </tr>\n",
       "    <tr>\n",
       "      <th>9</th>\n",
       "      <td>0.82</td>\n",
       "      <td>0.18</td>\n",
       "      <td>1</td>\n",
       "    </tr>\n",
       "  </tbody>\n",
       "</table>\n",
       "</div>"
      ],
      "text/plain": [
       "      x     y  output\n",
       "0  0.00  0.00       0\n",
       "1  0.00  1.00       1\n",
       "2  1.00  0.00       1\n",
       "3  1.00  1.00       0\n",
       "4  0.11  0.96       1\n",
       "5  0.96  0.87       1\n",
       "6  0.90  0.98       1\n",
       "7  0.11  0.10       0\n",
       "8  1.00  0.16       1\n",
       "9  0.82  0.18       1"
      ]
     },
     "execution_count": 10,
     "metadata": {},
     "output_type": "execute_result"
    }
   ],
   "source": [
    "df = pd.DataFrame({\"x\": x1, \"y\": x2, \"output\": output})\n",
    "df.head(10)"
   ]
  },
  {
   "cell_type": "markdown",
   "id": "4a7cee65",
   "metadata": {},
   "source": [
    "### Splitting the train-test data\n"
   ]
  },
  {
   "cell_type": "code",
   "execution_count": 11,
   "id": "905e8d9d",
   "metadata": {},
   "outputs": [
    {
     "name": "stdout",
     "output_type": "stream",
     "text": [
      "(54, 2)\n",
      "(54,)\n"
     ]
    }
   ],
   "source": [
    "X, y = df.iloc[:, :-1], output\n",
    "print(X.shape)\n",
    "print(y.shape)"
   ]
  },
  {
   "cell_type": "code",
   "execution_count": 12,
   "id": "dc62338b",
   "metadata": {},
   "outputs": [
    {
     "name": "stdout",
     "output_type": "stream",
     "text": [
      "(40, 2)\n",
      "(40,)\n",
      "(14, 2)\n",
      "(14,)\n"
     ]
    }
   ],
   "source": [
    "X_train, X_test, y_train, y_test = train_test_split(\n",
    "    X,\n",
    "    y,\n",
    "    test_size=14,\n",
    "    train_size=40,\n",
    "    random_state=42,\n",
    "    stratify=y,\n",
    "    shuffle=True,\n",
    ")\n",
    "print(X_train.shape)\n",
    "print(y_train.shape)\n",
    "print(X_test.shape)\n",
    "print(y_test.shape)"
   ]
  },
  {
   "cell_type": "markdown",
   "id": "4a05e80d",
   "metadata": {},
   "source": [
    "### Scale the features\n"
   ]
  },
  {
   "cell_type": "code",
   "execution_count": 13,
   "id": "0943c28a",
   "metadata": {},
   "outputs": [],
   "source": [
    "scaler = StandardScaler()\n",
    "X_scaled = scaler.fit_transform(X)"
   ]
  },
  {
   "cell_type": "markdown",
   "id": "836053e7",
   "metadata": {},
   "source": [
    "### Train the model\n"
   ]
  },
  {
   "cell_type": "code",
   "execution_count": 14,
   "id": "27b00b9f",
   "metadata": {},
   "outputs": [],
   "source": [
    "mlp = MLPClassifier(\n",
    "    hidden_layer_sizes=(8, 2),\n",
    "    activation=\"relu\",\n",
    "    solver=\"adam\",\n",
    "    max_iter=5000,\n",
    "    random_state=42,\n",
    ")\n",
    "mlp.fit(X_train.values, y_train)\n",
    "y_pred = mlp.predict(X.values)"
   ]
  },
  {
   "cell_type": "markdown",
   "id": "4c1e8dd8",
   "metadata": {},
   "source": [
    "### Test predictions\n"
   ]
  },
  {
   "cell_type": "code",
   "execution_count": 15,
   "id": "6dca4c16",
   "metadata": {},
   "outputs": [
    {
     "name": "stdout",
     "output_type": "stream",
     "text": [
      "Prediction: [0 1 1 1 1 1 1 0 1 1 1 1 1 1 0 1 1 0 1 0 1 0 1 1 1 0 1 1 0 0 1 1 1 0 1 1 1\n",
      " 1 1 1 1 1 1 1 1 0 0 1 1 1 1 1 1 1]\n",
      "Actual: [0 1 1 0 1 1 1 0 1 1 1 1 1 1 0 1 1 0 1 0 1 0 1 1 1 0 1 1 0 0 1 1 1 0 1 1 1\n",
      " 1 1 1 1 1 1 1 1 0 0 1 1 1 1 1 1 1]\n"
     ]
    }
   ],
   "source": [
    "print(\"Prediction:\", y_pred)\n",
    "print(\"Actual:\", y)"
   ]
  },
  {
   "cell_type": "code",
   "execution_count": 16,
   "id": "b52920bd",
   "metadata": {},
   "outputs": [
    {
     "name": "stdout",
     "output_type": "stream",
     "text": [
      "Accuracy: 98.15%\n"
     ]
    }
   ],
   "source": [
    "accuracy = mlp.score(X_scaled, y)\n",
    "print(f\"Accuracy: {accuracy*100:.2f}%\")"
   ]
  }
 ],
 "metadata": {
  "kernelspec": {
   "display_name": ".venv",
   "language": "python",
   "name": "python3"
  },
  "language_info": {
   "codemirror_mode": {
    "name": "ipython",
    "version": 3
   },
   "file_extension": ".py",
   "mimetype": "text/x-python",
   "name": "python",
   "nbconvert_exporter": "python",
   "pygments_lexer": "ipython3",
   "version": "3.12.3"
  }
 },
 "nbformat": 4,
 "nbformat_minor": 5
}
